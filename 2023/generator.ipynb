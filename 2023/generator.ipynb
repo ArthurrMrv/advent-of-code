{
 "cells": [
  {
   "cell_type": "markdown",
   "metadata": {},
   "source": [
    "# Generate python files from day 11 to day 25 of the advent of code"
   ]
  },
  {
   "cell_type": "markdown",
   "metadata": {},
   "source": [
    "## Imports"
   ]
  },
  {
   "cell_type": "code",
   "execution_count": 1,
   "metadata": {},
   "outputs": [],
   "source": [
    "import sys\n",
    "sys.path.append('/Users/arthurmorvan/Documents/Dev/Modules')\n",
    "\n",
    "from Tree import Node\n",
    "from Template import Template\n",
    "from tqdm import tqdm\n",
    "from PyPDF2 import PdfReader, PdfWriter"
   ]
  },
  {
   "cell_type": "code",
   "execution_count": 2,
   "metadata": {},
   "outputs": [
    {
     "name": "stdout",
     "output_type": "stream",
     "text": [
      "Help on class Template in module Template:\n",
      "\n",
      "class Template(builtins.object)\n",
      " |  Template(text: str = None) -> None\n",
      " |  \n",
      " |  Create a template to manipulate text which includes variables\n",
      " |  \n",
      " |  Methods defined here:\n",
      " |  \n",
      " |  __init__(self, text: str = None) -> None\n",
      " |      Initialize self.  See help(type(self)) for accurate signature.\n",
      " |  \n",
      " |  __str__(self) -> str\n",
      " |      Return str(self).\n",
      " |  \n",
      " |  get_template(self)\n",
      " |  \n",
      " |  get_text(self)\n",
      " |  \n",
      " |  get_variables(self)\n",
      " |  \n",
      " |  join_templVar(self) -> str\n",
      " |      Join the template with the variables\n",
      " |      \n",
      " |      Returns:\n",
      " |          str: _description_\n",
      " |  \n",
      " |  load_txt(self, path: str)\n",
      " |      Load a text file\n",
      " |      \n",
      " |      Args:\n",
      " |          path (str): _description_\n",
      " |  \n",
      " |  merge_variables(self, main_variable: str, *args)\n",
      " |      Merge variables into one (main_variable)\n",
      " |      \n",
      " |      Args:\n",
      " |          main_variable (str): name of the variable you want to keep\n",
      " |      \n",
      " |      Raises:\n",
      " |          Exception: _description_\n",
      " |          Exception: _description_\n",
      " |          Exception: _description_\n",
      " |  \n",
      " |  set_variables(self, kwargs)\n",
      " |      Set the value of the variables\n",
      " |      \n",
      " |      Raises:\n",
      " |          Exception: _description_\n",
      " |  \n",
      " |  str_text(self) -> str\n",
      " |  \n",
      " |  ----------------------------------------------------------------------\n",
      " |  Static methods defined here:\n",
      " |  \n",
      " |  split_variables(text: list, MAX_IDX=10000) -> tuple\n",
      " |      Get the variables from a text\n",
      " |      \n",
      " |      Args:\n",
      " |          text (list): the text you want to get the variables from (list of paragraphs)\n",
      " |      \n",
      " |      Returns:\n",
      " |          tuple: (variables, var_template)\n",
      " |  \n",
      " |  strip_w(word, characters: list) -> tuple\n",
      " |      Strip a word from characters\n",
      " |      \n",
      " |      Args:\n",
      " |          word (str): _description_\n",
      " |          characters (list): _description_\n",
      " |      \n",
      " |      Returns:\n",
      " |          tuple: (word, start, end)\n",
      " |  \n",
      " |  ----------------------------------------------------------------------\n",
      " |  Data descriptors defined here:\n",
      " |  \n",
      " |  __dict__\n",
      " |      dictionary for instance variables (if defined)\n",
      " |  \n",
      " |  __weakref__\n",
      " |      list of weak references to the object (if defined)\n",
      "\n"
     ]
    }
   ],
   "source": [
    "help(Template)"
   ]
  },
  {
   "cell_type": "code",
   "execution_count": 3,
   "metadata": {},
   "outputs": [],
   "source": [
    "template_txt = \\\n",
    "\"\"\"## DAY [DAY_NUMBER]\n",
    "\n",
    "def main():\n",
    "    data = get_data()\n",
    "    print(\"Part1: {}\".format(part1(data)))\n",
    "    print(\"Part2: {}\".format(part2(data)))\n",
    "\n",
    "def get_data(example=False):\n",
    "    if example:\n",
    "        with open(\"/Users/arthurmorvan/Documents/Dev/advent_of_code/2023/Data/day[DAY_NUMBER]_example.txt\", \"r\") as f:\n",
    "            data = f.read().splitlines()\n",
    "    else:\n",
    "        with open(\"/Users/arthurmorvan/Documents/Dev/advent_of_code/2023/Data/day[DAY_NUMBER].txt\", \"r\") as f:\n",
    "            data = f.read().splitlines()\n",
    "    return data\n",
    "\n",
    "def part1(data):\n",
    "    return\n",
    "\n",
    "def part2(data):\n",
    "    return\n",
    "\n",
    "\n",
    "if __name__ == \"__main__\":\n",
    "    main()\n",
    "\"\"\""
   ]
  },
  {
   "cell_type": "code",
   "execution_count": 4,
   "metadata": {},
   "outputs": [],
   "source": [
    "template = Template(template_txt)"
   ]
  },
  {
   "cell_type": "code",
   "execution_count": 5,
   "metadata": {},
   "outputs": [],
   "source": [
    "def generate_data():\n",
    "    for i in range(14, 26):\n",
    "        template.set_variables({\"DAY_NUMBER\": i})\n",
    "        with open(f\"day{i}.py\", \"w\") as f:\n",
    "            f.write(template.join_templVar())"
   ]
  },
  {
   "cell_type": "code",
   "execution_count": 7,
   "metadata": {},
   "outputs": [],
   "source": [
    "#generate_data()"
   ]
  }
 ],
 "metadata": {
  "kernelspec": {
   "display_name": "Python 3",
   "language": "python",
   "name": "python3"
  },
  "language_info": {
   "codemirror_mode": {
    "name": "ipython",
    "version": 3
   },
   "file_extension": ".py",
   "mimetype": "text/x-python",
   "name": "python",
   "nbconvert_exporter": "python",
   "pygments_lexer": "ipython3",
   "version": "3.11.4"
  }
 },
 "nbformat": 4,
 "nbformat_minor": 2
}
